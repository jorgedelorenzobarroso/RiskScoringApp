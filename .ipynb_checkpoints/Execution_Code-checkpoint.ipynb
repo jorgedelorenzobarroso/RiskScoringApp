{
 "cells": [
  {
   "cell_type": "markdown",
   "id": "297ff497",
   "metadata": {},
   "source": [
    "# EXECUTION CODE"
   ]
  },
  {
   "cell_type": "code",
   "execution_count": 49,
   "id": "96be6088",
   "metadata": {},
   "outputs": [],
   "source": [
    "import cloudpickle\n",
    "import numpy as np\n",
    "import pandas as pd\n",
    "from janitor import clean_names\n",
    "\n",
    "#Deactivate warnings\n",
    "import warnings\n",
    "warnings.filterwarnings(\"ignore\")\n",
    "\n",
    "from FunctionLibraryV1 import *\n",
    "\n",
    "\n",
    "def execute(df):\n",
    "\n",
    "    x_pd, y_pd = fl.feature_engineering_pd(fl.data_quality(df))\n",
    "    x_ead, y_ead = fl.feature_engineering_ead(fl.data_quality(df))\n",
    "    x_lgd, y_lgd = fl.feature_engineering_lgd(fl.data_quality(df))\n",
    "\n",
    "    execution_pipe_pd_name = 'execution_pipe_pd.pickle'\n",
    "    execution_pipe_ead_name = 'execution_pipe_ead.pickle'\n",
    "    execution_pipe_lgd_name = 'execution_pipe_lgd.pickle'\n",
    "\n",
    "    execution_pipe_pd_path = '/01_Models/' + execution_pipe_pd_name\n",
    "\n",
    "    with open(execution_pipe_pd_path, mode='rb') as file:\n",
    "       execution_pipe_pd = cloudpickle.load(file)\n",
    "\n",
    "    execution_pipe_ead_path = '/01_Models/' + execution_pipe_ead_name\n",
    "\n",
    "    with open(execution_pipe_ead_path, mode='rb') as file:\n",
    "       execution_pipe_ead = cloudpickle.load(file)\n",
    "\n",
    "    execution_pipe_lgd_path = '/01_Models/' + execution_pipe_lgd_name\n",
    "\n",
    "    with open(execution_pipe_lgd_path, mode='rb') as file:\n",
    "       execution_pipe_lgd = cloudpickle.load(file)\n",
    "\n",
    "    #EXECUTE\n",
    "    pred_pd = execution_pipe_pd.predict_proba(x_pd)[:, 1]\n",
    "    pred_ead = execution_pipe_ead.predict(x_ead)\n",
    "    pred_lgd = execution_pipe_lgd.predict(x_lgd)\n",
    "\n",
    "    #CORRECT VALUES TO MAKE SURE THEY ARE IN THE RIGHT LIMITS (0,1)\n",
    "    pred_pd = np.clip(pred_pd, 0, 1)\n",
    "    pred_ead = np.clip(pred_ead, 0, 1)\n",
    "    pred_lgd = np.clip(pred_lgd, 0, 1)\n",
    "\n",
    "    #CALCULATE EXPECTED LOSS (EL)\n",
    "    EL = pd.DataFrame({#'client_id': x_pd.index,\n",
    "                       'principal':x_pd.principal,\n",
    "                       'pd':pred_pd,\n",
    "                       'ead':pred_ead,\n",
    "                       'lgd':pred_lgd},\n",
    "                      index=x_pd.index)\n",
    "\n",
    "    EL['expected_loss'] = round(EL.pd * EL.ead * EL.lgd,2)\n",
    "    EL['expected_loss_euro'] = EL.principal * EL.expected_loss\n",
    "    \n",
    "    return(EL)\n"
   ]
  },
  {
   "cell_type": "code",
   "execution_count": null,
   "id": "dea80adb",
   "metadata": {},
   "outputs": [],
   "source": []
  }
 ],
 "metadata": {
  "kernelspec": {
   "display_name": "Python 3 (ipykernel)",
   "language": "python",
   "name": "python3"
  },
  "language_info": {
   "codemirror_mode": {
    "name": "ipython",
    "version": 3
   },
   "file_extension": ".py",
   "mimetype": "text/x-python",
   "name": "python",
   "nbconvert_exporter": "python",
   "pygments_lexer": "ipython3",
   "version": "3.11.11"
  },
  "toc": {
   "base_numbering": 1,
   "nav_menu": {},
   "number_sections": true,
   "sideBar": true,
   "skip_h1_title": false,
   "title_cell": "Table of Contents",
   "title_sidebar": "Contents",
   "toc_cell": false,
   "toc_position": {},
   "toc_section_display": true,
   "toc_window_display": true
  },
  "varInspector": {
   "cols": {
    "lenName": 16,
    "lenType": 16,
    "lenVar": 40
   },
   "kernels_config": {
    "python": {
     "delete_cmd_postfix": "",
     "delete_cmd_prefix": "del ",
     "library": "var_list.py",
     "varRefreshCmd": "print(var_dic_list())"
    },
    "r": {
     "delete_cmd_postfix": ") ",
     "delete_cmd_prefix": "rm(",
     "library": "var_list.r",
     "varRefreshCmd": "cat(var_dic_list()) "
    }
   },
   "position": {
    "height": "388.85px",
    "left": "1070px",
    "right": "20px",
    "top": "120px",
    "width": "350px"
   },
   "types_to_exclude": [
    "module",
    "function",
    "builtin_function_or_method",
    "instance",
    "_Feature"
   ],
   "window_display": false
  }
 },
 "nbformat": 4,
 "nbformat_minor": 5
}
